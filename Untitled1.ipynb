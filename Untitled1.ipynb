{
 "cells": [
  {
   "cell_type": "code",
   "execution_count": 1,
   "metadata": {},
   "outputs": [
    {
     "name": "stdout",
     "output_type": "stream",
     "text": [
      "Manuel pergi ke bec sama Igga tapi Bagja ga diajak\n"
     ]
    }
   ],
   "source": [
    "a = \"Manuel\"\n",
    "b = \"Bagja\"\n",
    "c = \"Igga\"\n",
    "\n",
    "print(f'{a} pergi ke bec sama {c} tapi {b} ga diajak')"
   ]
  },
  {
   "cell_type": "code",
   "execution_count": 2,
   "metadata": {},
   "outputs": [
    {
     "name": "stdin",
     "output_type": "stream",
     "text": [
      "masukkan nilai anda 100\n"
     ]
    },
    {
     "name": "stdout",
     "output_type": "stream",
     "text": [
      "mohon maaf masnya dapet A gausah kuliah mas dah jago\n"
     ]
    }
   ],
   "source": [
    "nilai = int(input(\"masukkan nilai anda\"))\n",
    "if nilai > 100 :\n",
    "    print(\"nilai anda hoax\")\n",
    "elif nilai <= 40 :\n",
    "    print(\"selamat anda mengulang\")\n",
    "elif nilai <=50 :\n",
    "     print(\"mohon maaf anda lulus tapi dapet D\")\n",
    "elif nilai <= 60 :\n",
    "    print(\"mohon maaf masnya dapet C rajin rajin kuliah mas\")\n",
    "elif nilai <= 70 :\n",
    "    print(\"mohon maaf masnya dapet B Jago bat mas\")\n",
    "elif nilai <= 100 :\n",
    "    print(\"mohon maaf masnya dapet A gausah kuliah mas dah jago\")"
   ]
  },
  {
   "cell_type": "code",
   "execution_count": null,
   "metadata": {},
   "outputs": [],
   "source": []
  }
 ],
 "metadata": {
  "kernelspec": {
   "display_name": "Python 3",
   "language": "python",
   "name": "python3"
  },
  "language_info": {
   "codemirror_mode": {
    "name": "ipython",
    "version": 3
   },
   "file_extension": ".py",
   "mimetype": "text/x-python",
   "name": "python",
   "nbconvert_exporter": "python",
   "pygments_lexer": "ipython3",
   "version": "3.7.4"
  }
 },
 "nbformat": 4,
 "nbformat_minor": 4
}
